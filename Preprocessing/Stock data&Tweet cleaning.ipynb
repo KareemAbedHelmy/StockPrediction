{
 "cells": [
  {
   "cell_type": "code",
   "execution_count": 4,
   "metadata": {},
   "outputs": [
    {
     "name": "stdout",
     "output_type": "stream",
     "text": [
      "Fetching data for TSLA...\n",
      "Fetching data for AAPL...\n",
      "Fetching data for AMZN...\n",
      "Fetching data for NVDA...\n",
      "Stock data saved to 'stock_data_1year.csv\n"
     ]
    }
   ],
   "source": [
    "import yfinance as yf\n",
    "import pandas as pd\n",
    "\n",
    "# Define stock symbols and time frame\n",
    "stocks = ['TSLA', 'AAPL', 'AMZN', 'NVDA']\n",
    "start_date = \"2021-09-01\"\n",
    "end_date = \"2022-09-01\"\n",
    "\n",
    "# Fetch data for each stock\n",
    "all_data = []\n",
    "for stock in stocks:\n",
    "    print(f\"Fetching data for {stock}...\")\n",
    "    ticker = yf.Ticker(stock)\n",
    "    hist = ticker.history(start=start_date, end=end_date)\n",
    "    hist['Stock'] = stock  # Add a column for stock name\n",
    "    all_data.append(hist)\n",
    "\n",
    "# Combine all stock data into a single DataFrame\n",
    "stock_data = pd.concat(all_data)\n",
    "\n",
    "# Save the stock data to a CSV file\n",
    "stock_data.to_csv(\"stock_data_1year.csv\")\n",
    "print(\"Stock data saved to 'stock_data_1year.csv\")\n"
   ]
  },
  {
   "cell_type": "code",
   "execution_count": 5,
   "metadata": {},
   "outputs": [
    {
     "name": "stdout",
     "output_type": "stream",
     "text": [
      "Enriched stock data saved to 'stock_data_enriched_2021_2022.csv'.\n"
     ]
    }
   ],
   "source": [
    "import pandas as pd\n",
    "import talib\n",
    "\n",
    "# Load the stock data\n",
    "stock_data = pd.read_csv(\"stock_data_1year.csv\", parse_dates=[\"Date\"])\n",
    "\n",
    "# Add Relative Strength Index (RSI)\n",
    "stock_data[\"RSI\"] = talib.RSI(stock_data[\"Close\"], timeperiod=14)\n",
    "\n",
    "# Add Moving Averages (20-day and 50-day)\n",
    "stock_data[\"MA20\"] = talib.SMA(stock_data[\"Close\"], timeperiod=20)\n",
    "stock_data[\"MA50\"] = talib.SMA(stock_data[\"Close\"], timeperiod=50)\n",
    "\n",
    "# Add Bollinger Bands\n",
    "stock_data[\"UpperBand\"], stock_data[\"MiddleBand\"], stock_data[\"LowerBand\"] = talib.BBANDS(\n",
    "    stock_data[\"Close\"], timeperiod=20, nbdevup=2, nbdevdn=2, matype=0\n",
    ")\n",
    "\n",
    "# Save the enriched stock data to a new CSV\n",
    "stock_data.to_csv(\"stock_data_1year_enriched.csv\", index=False)\n",
    "print(\"Enriched stock data saved to 'stock_data_enriched_2021_2022.csv'.\")\n"
   ]
  },
  {
   "cell_type": "code",
   "execution_count": 13,
   "metadata": {},
   "outputs": [
    {
     "name": "stdout",
     "output_type": "stream",
     "text": [
      "Cleaned tweets data saved to C:\\Users\\AFFAN\\dm stock pred\\af stock test\\cleaned_stock_tweets.csv\n"
     ]
    }
   ],
   "source": [
    "import pandas as pd\n",
    "import re\n",
    "\n",
    "# Load the tweet data\n",
    "tweets = pd.read_csv(r'C:\\Users\\AFFAN\\dm stock pred\\stock_tweets.csv')\n",
    "\n",
    "# Define a function to clean tweets\n",
    "def clean_tweet(tweet):\n",
    "    tweet = tweet.lower()  # Convert to lowercase\n",
    "    tweet = re.sub(r\"http\\S+\", \"\", tweet)  # Remove URLs\n",
    "    tweet = re.sub(r\"@\\w+\", \"\", tweet)    # Remove mentions\n",
    "    tweet = re.sub(r\"[^a-zA-Z\\s]\", \"\", tweet)  # Remove special characters\n",
    "    return tweet.strip()  # Remove leading/trailing whitespace\n",
    "\n",
    "# Apply the cleaning function to the tweet text\n",
    "tweets[\"cleaned_text\"] = tweets[\"Tweet\"].apply(clean_tweet)\n",
    "\n",
    "# Save the cleaned tweets data\n",
    "cleaned_tweets_path = r\"C:\\Users\\AFFAN\\dm stock pred\\af stock test\\cleaned_stock_tweets.csv\"\n",
    "tweets.to_csv(cleaned_tweets_path, index=False)\n",
    "print(f\"Cleaned tweets data saved to {cleaned_tweets_path}\")\n"
   ]
  },
  {
   "cell_type": "code",
   "execution_count": null,
   "metadata": {},
   "outputs": [],
   "source": []
  }
 ],
 "metadata": {
  "kernelspec": {
   "display_name": "Python 3",
   "language": "python",
   "name": "python3"
  },
  "language_info": {
   "codemirror_mode": {
    "name": "ipython",
    "version": 3
   },
   "file_extension": ".py",
   "mimetype": "text/x-python",
   "name": "python",
   "nbconvert_exporter": "python",
   "pygments_lexer": "ipython3",
   "version": "3.10.10"
  }
 },
 "nbformat": 4,
 "nbformat_minor": 2
}
