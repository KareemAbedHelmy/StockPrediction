{
 "cells": [
  {
   "cell_type": "code",
   "execution_count": 1,
   "metadata": {},
   "outputs": [
    {
     "name": "stderr",
     "output_type": "stream",
     "text": [
      "C:\\Users\\AFFAN\\AppData\\Roaming\\Python\\Python310\\site-packages\\tqdm\\auto.py:21: TqdmWarning: IProgress not found. Please update jupyter and ipywidgets. See https://ipywidgets.readthedocs.io/en/stable/user_install.html\n",
      "  from .autonotebook import tqdm as notebook_tqdm\n"
     ]
    },
    {
     "name": "stdout",
     "output_type": "stream",
     "text": [
      "Libraries imported successfully.\n"
     ]
    }
   ],
   "source": [
    "# Import libraries\n",
    "import pandas as pd\n",
    "import numpy as np\n",
    "from sklearn.model_selection import train_test_split\n",
    "from sklearn.preprocessing import MinMaxScaler\n",
    "from sklearn.metrics import mean_squared_error, mean_absolute_error\n",
    "import torch\n",
    "from transformers import BertTokenizer, BertForSequenceClassification\n",
    "import shap\n",
    "import matplotlib.pyplot as plt\n",
    "import warnings\n",
    "\n",
    "# Debug warnings\n",
    "warnings.filterwarnings('ignore', category=FutureWarning)\n",
    "print(\"Libraries imported successfully.\")\n"
   ]
  },
  {
   "cell_type": "code",
   "execution_count": 2,
   "metadata": {},
   "outputs": [
    {
     "name": "stdout",
     "output_type": "stream",
     "text": [
      "Using device: cuda\n"
     ]
    }
   ],
   "source": [
    "# Check for GPU availability\n",
    "device = torch.device(\"cuda\" if torch.cuda.is_available() else \"cpu\")\n",
    "print(f\"Using device: {device}\")\n"
   ]
  },
  {
   "cell_type": "code",
   "execution_count": 3,
   "metadata": {},
   "outputs": [
    {
     "name": "stdout",
     "output_type": "stream",
     "text": [
      "Tweets Data Sample:\n",
      "                         Date  \\\n",
      "0  2022-09-29 23:41:16+00:00   \n",
      "1  2022-09-29 23:24:43+00:00   \n",
      "2  2022-09-29 23:18:08+00:00   \n",
      "3  2022-09-29 22:40:07+00:00   \n",
      "4  2022-09-29 22:27:05+00:00   \n",
      "\n",
      "                                               Tweet Stock Name Company Name  \\\n",
      "0  Mainstream media has done an amazing job at br...       TSLA  Tesla, Inc.   \n",
      "1  Tesla delivery estimates are at around 364k fr...       TSLA  Tesla, Inc.   \n",
      "2  3/ Even if I include 63.0M unvested RSUs as of...       TSLA  Tesla, Inc.   \n",
      "3  @RealDanODowd @WholeMarsBlog @Tesla Hahaha why...       TSLA  Tesla, Inc.   \n",
      "4  @RealDanODowd @Tesla Stop trying to kill kids,...       TSLA  Tesla, Inc.   \n",
      "\n",
      "                                        cleaned_text  \n",
      "0  mainstream media has done an amazing job at br...  \n",
      "1  tesla delivery estimates are at around k from ...  \n",
      "2  even if i include m unvested rsus as of  addit...  \n",
      "3  hahaha why are you still trying to stop tesla ...  \n",
      "4  stop trying to kill kids you sad deranged old man   \n",
      "\n",
      "Stock Data Sample:\n",
      "                         Date        Open        High         Low       Close  \\\n",
      "0  2021-09-01 00:00:00-04:00  244.693329  247.330002  243.756668  244.696671   \n",
      "1  2021-09-02 00:00:00-04:00  244.833328  246.990005  243.513336  244.130005   \n",
      "2  2021-09-03 00:00:00-04:00  244.083328  244.666672  241.399994  244.523331   \n",
      "3  2021-09-07 00:00:00-04:00  246.666672  253.399994  246.419998  250.973328   \n",
      "4  2021-09-08 00:00:00-04:00  253.860001  254.816666  246.923340  251.289993   \n",
      "\n",
      "     Volume  Dividends  Stock Splits Stock  RSI  MA20  MA50  UpperBand  \\\n",
      "0  39612900        0.0           0.0  TSLA  NaN   NaN   NaN        NaN   \n",
      "1  38331900        0.0           0.0  TSLA  NaN   NaN   NaN        NaN   \n",
      "2  45738300        0.0           0.0  TSLA  NaN   NaN   NaN        NaN   \n",
      "3  60119400        0.0           0.0  TSLA  NaN   NaN   NaN        NaN   \n",
      "4  56379000        0.0           0.0  TSLA  NaN   NaN   NaN        NaN   \n",
      "\n",
      "   MiddleBand  LowerBand  \n",
      "0         NaN        NaN  \n",
      "1         NaN        NaN  \n",
      "2         NaN        NaN  \n",
      "3         NaN        NaN  \n",
      "4         NaN        NaN   \n",
      "\n"
     ]
    }
   ],
   "source": [
    "# Load datasets\n",
    "tweets_data = pd.read_csv(r'C:\\Users\\AFFAN\\dm stock pred\\af stock test\\cleaned_stock_tweets.csv')\n",
    "stock_data = pd.read_csv(r'C:\\Users\\AFFAN\\dm stock pred\\af stock test\\stock_data_1year_enriched.csv')\n",
    "\n",
    "# Preview datasets\n",
    "print(\"Tweets Data Sample:\\n\", tweets_data.head(), \"\\n\")\n",
    "print(\"Stock Data Sample:\\n\", stock_data.head(), \"\\n\")\n"
   ]
  },
  {
   "cell_type": "code",
   "execution_count": 5,
   "metadata": {},
   "outputs": [
    {
     "name": "stderr",
     "output_type": "stream",
     "text": [
      "Processing Batches: 100%|██████████| 2525/2525 [10:05<00:00,  4.17it/s]\n"
     ]
    },
    {
     "name": "stdout",
     "output_type": "stream",
     "text": [
      "Sentiment analysis results saved.\n"
     ]
    }
   ],
   "source": [
    "from transformers import BertTokenizer, BertForSequenceClassification\n",
    "import torch\n",
    "from tqdm import tqdm\n",
    "\n",
    "# FinBERT Model Setup\n",
    "tokenizer = BertTokenizer.from_pretrained('yiyanghkust/finbert-tone')\n",
    "model = BertForSequenceClassification.from_pretrained('yiyanghkust/finbert-tone')\n",
    "\n",
    "# Ensure 'cleaned_text' is a string and handle missing or invalid data\n",
    "tweets_data['cleaned_text'] = tweets_data['cleaned_text'].astype(str).fillna(\"\")\n",
    "tweets_data = tweets_data[tweets_data['cleaned_text'].str.strip() != \"\"]  # Remove empty strings\n",
    "\n",
    "# Define sentiment analysis function\n",
    "def sentiment_analysis(text):\n",
    "    # Tokenize the input text\n",
    "    inputs = tokenizer(\n",
    "        text, \n",
    "        return_tensors='pt', \n",
    "        truncation=True, \n",
    "        padding=True, \n",
    "        max_length=512\n",
    "    ).to(device)\n",
    "    \n",
    "    # Get model predictions\n",
    "    outputs = model(**inputs)\n",
    "    scores = torch.nn.functional.softmax(outputs.logits, dim=1)\n",
    "    sentiment = torch.argmax(scores).item()  # 0 = Negative, 1 = Neutral, 2 = Positive\n",
    "    return sentiment, scores.tolist()\n",
    "\n",
    "# Send FinBERT model to GPU\n",
    "model.to(device)\n",
    "\n",
    "# Batch-wise Sentiment Analysis for large datasets\n",
    "batch_size = 32\n",
    "sentiments = []\n",
    "sentiment_scores = []\n",
    "\n",
    "for i in tqdm(range(0, len(tweets_data), batch_size), desc=\"Processing Batches\"):\n",
    "    batch_texts = tweets_data['cleaned_text'][i:i + batch_size].tolist()\n",
    "    batch_sentiments, batch_scores = zip(*[sentiment_analysis(text) for text in batch_texts])\n",
    "    sentiments.extend(batch_sentiments)\n",
    "    sentiment_scores.extend(batch_scores)\n",
    "\n",
    "# Add results back to the dataframe\n",
    "tweets_data['Sentiment'] = sentiments\n",
    "tweets_data['Sentiment_Score'] = sentiment_scores\n",
    "tweets_data.to_csv(\"cleaned_stock_tweets_with_sentiment.csv\", index=False)\n",
    "print(\"Sentiment analysis results saved.\")\n",
    "\n",
    "\n"
   ]
  },
  {
   "cell_type": "code",
   "execution_count": 6,
   "metadata": {},
   "outputs": [
    {
     "name": "stdout",
     "output_type": "stream",
     "text": [
      "Sentiment\n",
      "0    58454\n",
      "1    14767\n",
      "2     7572\n",
      "Name: count, dtype: int64\n"
     ]
    }
   ],
   "source": [
    "print(tweets_data['Sentiment'].value_counts())\n"
   ]
  },
  {
   "cell_type": "code",
   "execution_count": 7,
   "metadata": {},
   "outputs": [
    {
     "data": {
      "image/png": "[encoded data removed]",
      "text/plain": [
       "<Figure size 640x480 with 1 Axes>"
      ]
     },
     "metadata": {},
     "output_type": "display_data"
    }
   ],
   "source": [
    "import matplotlib.pyplot as plt\n",
    "\n",
    "tweets_data['Sentiment'].value_counts().plot(kind='bar', color=['red', 'gray', 'green'])\n",
    "plt.title(\"Sentiment Distribution\")\n",
    "plt.xlabel(\"Sentiment\")\n",
    "plt.ylabel(\"Tweet Count\")\n",
    "plt.xticks(ticks=[0, 1, 2], labels=['Negative', 'Neutral', 'Positive'], rotation=0)\n",
    "plt.show()\n"
   ]
  },
  {
   "cell_type": "code",
   "execution_count": 8,
   "metadata": {},
   "outputs": [
    {
     "name": "stdout",
     "output_type": "stream",
     "text": [
      "TSLA Sentiment Distribution:\n",
      "Sentiment\n",
      "0    27022\n",
      "1     6705\n",
      "2     3695\n",
      "Name: count, dtype: int64\n",
      "AAPL Sentiment Distribution:\n",
      "Sentiment\n",
      "0    3638\n",
      "1     866\n",
      "2     552\n",
      "Name: count, dtype: int64\n",
      "AMZN Sentiment Distribution:\n",
      "Sentiment\n",
      "0    2857\n",
      "1     765\n",
      "2     467\n",
      "Name: count, dtype: int64\n",
      "NVDA Sentiment Distribution:\n",
      "Series([], Name: count, dtype: int64)\n"
     ]
    }
   ],
   "source": [
    "for stock in ['TSLA', 'AAPL', 'AMZN', 'NVDA']:\n",
    "    stock_tweets = tweets_data[tweets_data['Stock Name'] == stock]\n",
    "    print(f\"{stock} Sentiment Distribution:\")\n",
    "    print(stock_tweets['Sentiment'].value_counts())\n"
   ]
  },
  {
   "cell_type": "code",
   "execution_count": 9,
   "metadata": {},
   "outputs": [
    {
     "name": "stdout",
     "output_type": "stream",
     "text": [
      "TSLA: 252 rows loaded.\n",
      "AAPL: 252 rows loaded.\n",
      "AMZN: 252 rows loaded.\n",
      "NVDA: 252 rows loaded.\n"
     ]
    }
   ],
   "source": [
    "# Create separate DataFrames for each stock\n",
    "stock_dataframes = {stock: stock_data[stock_data['Stock'] == stock].reset_index(drop=True) for stock in ['TSLA', 'AAPL', 'AMZN', 'NVDA']}\n",
    "\n",
    "# Print the number of rows for each stock\n",
    "for stock, data in stock_dataframes.items():\n",
    "    print(f\"{stock}: {len(data)} rows loaded.\")\n"
   ]
  },
  {
   "cell_type": "code",
   "execution_count": 10,
   "metadata": {},
   "outputs": [
    {
     "name": "stdout",
     "output_type": "stream",
     "text": [
      "Invalid dates in tweets_data:\n",
      "Empty DataFrame\n",
      "Columns: [Date, Tweet, Stock Name, Company Name, cleaned_text, Sentiment, Sentiment_Score]\n",
      "Index: []\n",
      "Invalid dates in TSLA:\n",
      "Empty DataFrame\n",
      "Columns: [Date, Open, High, Low, Close, Volume, Dividends, Stock Splits, Stock, RSI, MA20, MA50, UpperBand, MiddleBand, LowerBand]\n",
      "Index: []\n",
      "Invalid dates in AAPL:\n",
      "Empty DataFrame\n",
      "Columns: [Date, Open, High, Low, Close, Volume, Dividends, Stock Splits, Stock, RSI, MA20, MA50, UpperBand, MiddleBand, LowerBand]\n",
      "Index: []\n",
      "Invalid dates in AMZN:\n",
      "Empty DataFrame\n",
      "Columns: [Date, Open, High, Low, Close, Volume, Dividends, Stock Splits, Stock, RSI, MA20, MA50, UpperBand, MiddleBand, LowerBand]\n",
      "Index: []\n",
      "Invalid dates in NVDA:\n",
      "Empty DataFrame\n",
      "Columns: [Date, Open, High, Low, Close, Volume, Dividends, Stock Splits, Stock, RSI, MA20, MA50, UpperBand, MiddleBand, LowerBand]\n",
      "Index: []\n"
     ]
    }
   ],
   "source": [
    "print(\"Invalid dates in tweets_data:\")\n",
    "print(tweets_data[pd.to_datetime(tweets_data['Date'], errors='coerce').isna()])\n",
    "\n",
    "for stock, data in stock_dataframes.items():\n",
    "    print(f\"Invalid dates in {stock}:\")\n",
    "    print(data[pd.to_datetime(data['Date'], errors='coerce').isna()])\n"
   ]
  },
  {
   "cell_type": "code",
   "execution_count": 11,
   "metadata": {},
   "outputs": [
    {
     "name": "stdout",
     "output_type": "stream",
     "text": [
      "Original tweets data size: 80793 rows\n",
      "Filtered tweets data size: 46567 rows\n"
     ]
    }
   ],
   "source": [
    "# Define the relevant stock names\n",
    "relevant_stocks = ['TSLA', 'AAPL', 'AMZN', 'NVDA']\n",
    "\n",
    "# Filter tweets to include only relevant stocks\n",
    "tweets_data_filtered = tweets_data[tweets_data['Stock Name'].isin(relevant_stocks)]\n",
    "\n",
    "# Print the number of rows before and after filtering\n",
    "print(f\"Original tweets data size: {len(tweets_data)} rows\")\n",
    "print(f\"Filtered tweets data size: {len(tweets_data_filtered)} rows\")\n"
   ]
  },
  {
   "cell_type": "code",
   "execution_count": 14,
   "metadata": {},
   "outputs": [
    {
     "name": "stdout",
     "output_type": "stream",
     "text": [
      "Tweets Data - 'Date' Column:\n",
      "0    2022-09-29 23:41:16+00:00\n",
      "1    2022-09-29 23:24:43+00:00\n",
      "2    2022-09-29 23:18:08+00:00\n",
      "3    2022-09-29 22:40:07+00:00\n",
      "4    2022-09-29 22:27:05+00:00\n",
      "Name: Date, dtype: object\n",
      "Data Type: object\n",
      "\n",
      "Stock: TSLA - 'Date' Column:\n",
      "0    2021-09-01 00:00:00-04:00\n",
      "1    2021-09-02 00:00:00-04:00\n",
      "2    2021-09-03 00:00:00-04:00\n",
      "3    2021-09-07 00:00:00-04:00\n",
      "4    2021-09-08 00:00:00-04:00\n",
      "Name: Date, dtype: object\n",
      "Data Type: object\n",
      "\n",
      "Stock: AAPL - 'Date' Column:\n",
      "0    2021-09-01 00:00:00-04:00\n",
      "1    2021-09-02 00:00:00-04:00\n",
      "2    2021-09-03 00:00:00-04:00\n",
      "3    2021-09-07 00:00:00-04:00\n",
      "4    2021-09-08 00:00:00-04:00\n",
      "Name: Date, dtype: object\n",
      "Data Type: object\n",
      "\n",
      "Stock: AMZN - 'Date' Column:\n",
      "0    2021-09-01 00:00:00-04:00\n",
      "1    2021-09-02 00:00:00-04:00\n",
      "2    2021-09-03 00:00:00-04:00\n",
      "3    2021-09-07 00:00:00-04:00\n",
      "4    2021-09-08 00:00:00-04:00\n",
      "Name: Date, dtype: object\n",
      "Data Type: object\n",
      "\n",
      "Stock: NVDA - 'Date' Column:\n",
      "0    2021-09-01 00:00:00-04:00\n",
      "1    2021-09-02 00:00:00-04:00\n",
      "2    2021-09-03 00:00:00-04:00\n",
      "3    2021-09-07 00:00:00-04:00\n",
      "4    2021-09-08 00:00:00-04:00\n",
      "Name: Date, dtype: object\n",
      "Data Type: object\n"
     ]
    }
   ],
   "source": [
    "# Check the data type and first few rows of the 'Date' column in tweets_data_filtered\n",
    "print(\"Tweets Data - 'Date' Column:\")\n",
    "print(tweets_data_filtered['Date'].head())\n",
    "print(\"Data Type:\", tweets_data_filtered['Date'].dtype)\n",
    "\n",
    "# Check the data type and first few rows of the 'Date' column for each stock in stock_dataframes\n",
    "for stock, data in stock_dataframes.items():\n",
    "    print(f\"\\nStock: {stock} - 'Date' Column:\")\n",
    "    print(data['Date'].head())\n",
    "    print(\"Data Type:\", data['Date'].dtype)\n"
   ]
  },
  {
   "cell_type": "code",
   "execution_count": 16,
   "metadata": {},
   "outputs": [
    {
     "name": "stdout",
     "output_type": "stream",
     "text": [
      "Stock: TSLA - 'Date' Column:\n",
      "0    2021-09-01\n",
      "1    2021-09-02\n",
      "2    2021-09-03\n",
      "3    2021-09-07\n",
      "4    2021-09-08\n",
      "Name: Date, dtype: object\n",
      "object\n",
      "Stock: AAPL - 'Date' Column:\n",
      "0    2021-09-01 00:00:00-04:00\n",
      "1    2021-09-02 00:00:00-04:00\n",
      "2    2021-09-03 00:00:00-04:00\n",
      "3    2021-09-07 00:00:00-04:00\n",
      "4    2021-09-08 00:00:00-04:00\n",
      "Name: Date, dtype: object\n",
      "object\n",
      "Stock: AMZN - 'Date' Column:\n",
      "0    2021-09-01 00:00:00-04:00\n",
      "1    2021-09-02 00:00:00-04:00\n",
      "2    2021-09-03 00:00:00-04:00\n",
      "3    2021-09-07 00:00:00-04:00\n",
      "4    2021-09-08 00:00:00-04:00\n",
      "Name: Date, dtype: object\n",
      "object\n",
      "Stock: NVDA - 'Date' Column:\n",
      "0    2021-09-01 00:00:00-04:00\n",
      "1    2021-09-02 00:00:00-04:00\n",
      "2    2021-09-03 00:00:00-04:00\n",
      "3    2021-09-07 00:00:00-04:00\n",
      "4    2021-09-08 00:00:00-04:00\n",
      "Name: Date, dtype: object\n",
      "object\n"
     ]
    }
   ],
   "source": [
    "for stock, data in stock_dataframes.items():\n",
    "    print(f\"Stock: {stock} - 'Date' Column:\")\n",
    "    print(data['Date'].head())\n",
    "    print(data['Date'].dtype)\n"
   ]
  },
  {
   "cell_type": "code",
   "execution_count": 20,
   "metadata": {},
   "outputs": [
    {
     "name": "stdout",
     "output_type": "stream",
     "text": [
      "Processing stock: TSLA\n",
      "Error: 'Date' column in TSLA is not datetime-like after conversion.\n",
      "Processing stock: AAPL\n",
      "Error: 'Date' column in AAPL is not datetime-like after conversion.\n",
      "Processing stock: AMZN\n",
      "Error: 'Date' column in AMZN is not datetime-like after conversion.\n",
      "Processing stock: TSLA\n",
      "TSLA: Merged dataset has 252 rows.\n",
      "Processing stock: AAPL\n",
      "AAPL: Merged dataset has 252 rows.\n",
      "Processing stock: AMZN\n",
      "AMZN: Merged dataset has 252 rows.\n",
      "TSLA sample rows:\n",
      "                        Date        Open        High         Low       Close  \\\n",
      "0  2021-09-01 00:00:00-04:00  244.693329  247.330002  243.756668  244.696671   \n",
      "1  2021-09-02 00:00:00-04:00  244.833328  246.990005  243.513336  244.130005   \n",
      "2  2021-09-03 00:00:00-04:00  244.083328  244.666672  241.399994  244.523331   \n",
      "3  2021-09-07 00:00:00-04:00  246.666672  253.399994  246.419998  250.973328   \n",
      "4  2021-09-08 00:00:00-04:00  253.860001  254.816666  246.923340  251.289993   \n",
      "\n",
      "     Volume  Dividends  Stock Splits Stock  RSI  ...  UpperBand  MiddleBand  \\\n",
      "0  39612900        0.0           0.0  TSLA  0.0  ...        0.0         0.0   \n",
      "1  38331900        0.0           0.0  TSLA  0.0  ...        0.0         0.0   \n",
      "2  45738300        0.0           0.0  TSLA  0.0  ...        0.0         0.0   \n",
      "3  60119400        0.0           0.0  TSLA  0.0  ...        0.0         0.0   \n",
      "4  56379000        0.0           0.0  TSLA  0.0  ...        0.0         0.0   \n",
      "\n",
      "   LowerBand  Tweet  Stock Name  Company Name  cleaned_text  Sentiment  \\\n",
      "0        0.0      0           0             0             0        0.0   \n",
      "1        0.0      0           0             0             0        0.0   \n",
      "2        0.0      0           0             0             0        0.0   \n",
      "3        0.0      0           0             0             0        0.0   \n",
      "4        0.0      0           0             0             0        0.0   \n",
      "\n",
      "   Sentiment_Score  Volume_Weighted_Sentiment  \n",
      "0                0                          0  \n",
      "1                0                          0  \n",
      "2                0                          0  \n",
      "3                0                          0  \n",
      "4                0                          0  \n",
      "\n",
      "[5 rows x 22 columns]\n",
      "AAPL sample rows:\n",
      "                        Date        Open        High         Low       Close  \\\n",
      "0  2021-09-01 00:00:00-04:00  150.147765  152.260026  149.666359  149.833374   \n",
      "1  2021-09-02 00:00:00-04:00  151.169479  152.004567  149.725277  150.953339   \n",
      "2  2021-09-03 00:00:00-04:00  151.061403  151.916144  150.403164  151.591934   \n",
      "3  2021-09-07 00:00:00-04:00  152.250203  154.500006  151.680381  153.940018   \n",
      "4  2021-09-08 00:00:00-04:00  154.224917  154.283861  151.277568  152.387741   \n",
      "\n",
      "     Volume  Dividends  Stock Splits Stock        RSI  ...   UpperBand  \\\n",
      "0  80313700        0.0           0.0  AAPL  16.089037  ...  350.797653   \n",
      "1  71115500        0.0           0.0  AAPL  16.592007  ...  366.584835   \n",
      "2  57808700        0.0           0.0  AAPL  16.897881  ...  375.508957   \n",
      "3  82278300        0.0           0.0  AAPL  18.087363  ...  380.924402   \n",
      "4  74420200        0.0           0.0  AAPL  17.904907  ...  382.992831   \n",
      "\n",
      "   MiddleBand   LowerBand  Tweet  Stock Name  Company Name  cleaned_text  \\\n",
      "0  285.897337  220.997022      0           0             0             0   \n",
      "1  279.036504  191.488172      0           0             0             0   \n",
      "2  272.094933  168.680909      0           0             0             0   \n",
      "3  265.625267  150.326132      0           0             0             0   \n",
      "4  258.526821  134.060811      0           0             0             0   \n",
      "\n",
      "   Sentiment  Sentiment_Score  Volume_Weighted_Sentiment  \n",
      "0        0.0                0                          0  \n",
      "1        0.0                0                          0  \n",
      "2        0.0                0                          0  \n",
      "3        0.0                0                          0  \n",
      "4        0.0                0                          0  \n",
      "\n",
      "[5 rows x 22 columns]\n",
      "AMZN sample rows:\n",
      "                        Date        Open        High         Low       Close  \\\n",
      "0  2021-09-01 00:00:00-04:00  174.820007  176.350006  173.761993  173.949997   \n",
      "1  2021-09-02 00:00:00-04:00  174.738007  175.598007  172.750000  173.156006   \n",
      "2  2021-09-03 00:00:00-04:00  172.600006  174.133499  171.822006  173.902496   \n",
      "3  2021-09-07 00:00:00-04:00  173.899994  176.404495  173.847000  175.464493   \n",
      "4  2021-09-08 00:00:00-04:00  175.582504  177.281494  174.783493  176.274994   \n",
      "\n",
      "     Volume  Dividends  Stock Splits Stock        RSI  ...   UpperBand  \\\n",
      "0  72598000        0.0           0.0  AMZN  63.766440  ...  176.121804   \n",
      "1  58474000        0.0           0.0  AMZN  62.610135  ...  176.990361   \n",
      "2  51514000        0.0           0.0  AMZN  63.284238  ...  177.873342   \n",
      "3  54758000        0.0           0.0  AMZN  64.717647  ...  178.914108   \n",
      "4  61068000        0.0           0.0  AMZN  65.470935  ...  179.969324   \n",
      "\n",
      "   MiddleBand   LowerBand  Tweet  Stock Name  Company Name  cleaned_text  \\\n",
      "0  166.024332  155.926861      0           0             0             0   \n",
      "1  166.514218  156.038075      0           0             0             0   \n",
      "2  167.065141  156.256939      0           0             0             0   \n",
      "3  167.691692  156.469275      0           0             0             0   \n",
      "4  168.145370  156.321416      0           0             0             0   \n",
      "\n",
      "   Sentiment  Sentiment_Score  Volume_Weighted_Sentiment  \n",
      "0        0.0                0                          0  \n",
      "1        0.0                0                          0  \n",
      "2        0.0                0                          0  \n",
      "3        0.0                0                          0  \n",
      "4        0.0                0                          0  \n",
      "\n",
      "[5 rows x 22 columns]\n"
     ]
    }
   ],
   "source": [
    "# Define the relevant stocks (excluding Nvidia)\n",
    "relevant_stocks = ['TSLA', 'AAPL', 'AMZN']\n",
    "\n",
    "# Filter tweets data to include only relevant stocks\n",
    "tweets_data_filtered = tweets_data[tweets_data['Stock Name'].isin(relevant_stocks)].copy()\n",
    "\n",
    "# Ensure 'Date' column in tweets_data_filtered is properly converted to datetime\n",
    "tweets_data_filtered['Date'] = pd.to_datetime(tweets_data_filtered['Date'], errors='coerce')\n",
    "tweets_data_filtered = tweets_data_filtered.dropna(subset=['Date'])  # Drop invalid dates\n",
    "tweets_data_filtered['Date'] = tweets_data_filtered['Date'].dt.tz_localize(None)  # Remove timezone information\n",
    "tweets_data_filtered['Date'] = tweets_data_filtered['Date'].dt.date  # Extract only the date\n",
    "\n",
    "# Create stock-specific DataFrames for Tesla, Apple, and Amazon\n",
    "stock_dataframes = {stock: stock_data[stock_data['Stock'] == stock].reset_index(drop=True) for stock in relevant_stocks}\n",
    "\n",
    "# Ensure 'Date' column in stock_dataframes is properly converted to datetime\n",
    "for stock, data in stock_dataframes.items():\n",
    "    print(f\"Processing stock: {stock}\")\n",
    "    \n",
    "    # Convert 'Date' to datetime, handle errors, and remove timezone\n",
    "    data['Date'] = pd.to_datetime(data['Date'], errors='coerce')  # Convert to datetime\n",
    "    data = data.dropna(subset=['Date'])  # Drop invalid dates\n",
    "\n",
    "    # Check if the column is datetimelike\n",
    "    if not pd.api.types.is_datetime64_any_dtype(data['Date']):\n",
    "        print(f\"Error: 'Date' column in {stock} is not datetime-like after conversion.\")\n",
    "        continue\n",
    "\n",
    "    # Remove timezone information if present\n",
    "    data['Date'] = data['Date'].dt.tz_localize(None)  # Remove timezone\n",
    "\n",
    "    # Extract only the date part\n",
    "    data['Date'] = data['Date'].dt.date\n",
    "\n",
    "    # Update the stock dataframe\n",
    "    stock_dataframes[stock] = data\n",
    "\n",
    "# Initialize dictionary to store merged data for each stock\n",
    "merged_dataframes = {}\n",
    "\n",
    "# Merge each stock DataFrame with the filtered tweets data\n",
    "for stock, stock_df in stock_dataframes.items():\n",
    "    print(f\"Processing stock: {stock}\")\n",
    "    \n",
    "    # Filter tweets for the current stock\n",
    "    tweets_subset = tweets_data_filtered[tweets_data_filtered['Stock Name'] == stock]\n",
    "    \n",
    "    # Merge datasets\n",
    "    merged_data = pd.merge(stock_df, tweets_subset, on='Date', how='left')\n",
    "\n",
    "    # Fill missing sentiment data with 0\n",
    "    merged_data['Sentiment'] = merged_data['Sentiment'].fillna(0)\n",
    "    merged_data['Sentiment_Score'] = merged_data['Sentiment_Score'].fillna(0)\n",
    "    merged_data['Volume_Weighted_Sentiment'] = merged_data['Sentiment_Score'] * merged_data['Volume']\n",
    "    merged_data = merged_data.fillna(0)  # Fill other missing values with 0\n",
    "\n",
    "    # Store merged data in the dictionary\n",
    "    merged_dataframes[stock] = merged_data\n",
    "    print(f\"{stock}: Merged dataset has {len(merged_data)} rows.\")\n",
    "\n",
    "# Verify the output\n",
    "for stock, data in merged_dataframes.items():\n",
    "    print(f\"{stock} sample rows:\")\n",
    "    print(data.head())\n"
   ]
  },
  {
   "cell_type": "code",
   "execution_count": 21,
   "metadata": {},
   "outputs": [
    {
     "name": "stdout",
     "output_type": "stream",
     "text": [
      "Merged data for TSLA saved to merged_stock_data\\TSLA_merged_data.csv.\n",
      "Merged data for AAPL saved to merged_stock_data\\AAPL_merged_data.csv.\n",
      "Merged data for AMZN saved to merged_stock_data\\AMZN_merged_data.csv.\n"
     ]
    }
   ],
   "source": [
    "import os\n",
    "\n",
    "# Directory to save merged files\n",
    "save_dir = \"merged_stock_data\"\n",
    "os.makedirs(save_dir, exist_ok=True)\n",
    "\n",
    "# Save each merged DataFrame to a CSV file\n",
    "for stock, data in merged_dataframes.items():\n",
    "    file_path = os.path.join(save_dir, f\"{stock}_merged_data.csv\")\n",
    "    data.to_csv(file_path, index=False)\n",
    "    print(f\"Merged data for {stock} saved to {file_path}.\")\n"
   ]
  },
  {
   "cell_type": "code",
   "execution_count": null,
   "metadata": {},
   "outputs": [],
   "source": []
  }
 ],
 "metadata": {
  "kernelspec": {
   "display_name": "Python 3",
   "language": "python",
   "name": "python3"
  },
  "language_info": {
   "codemirror_mode": {
    "name": "ipython",
    "version": 3
   },
   "file_extension": ".py",
   "mimetype": "text/x-python",
   "name": "python",
   "nbconvert_exporter": "python",
   "pygments_lexer": "ipython3",
   "version": "3.10.10"
  }
 },
 "nbformat": 4,
 "nbformat_minor": 2
}
